{
 "cells": [
  {
   "cell_type": "code",
   "execution_count": 4,
   "metadata": {},
   "outputs": [
    {
     "output_type": "stream",
     "name": "stdout",
     "text": [
      "The memory_profiler extension is already loaded. To reload it, use:\n  %reload_ext memory_profiler\nThe line_profiler extension is already loaded. To reload it, use:\n  %reload_ext line_profiler\n"
     ]
    }
   ],
   "source": [
    "import sys\n",
    "from pathlib import Path\n",
    "import numpy as np\n",
    "import inspect\n",
    "import os\n",
    "import pandas as pd\n",
    "\n",
    "sys.path.insert(0, Path.cwd().resolve())\n",
    "sys.path.insert(0, Path(\"predictit\").resolve())\n",
    "\n",
    "#import predictit\n",
    "#from predictit import config\n",
    "\n",
    "#config.update({\n",
    "#    'print': 0,\n",
    "#    'debug': -1\n",
    "#})\n",
    "\n",
    "%load_ext memory_profiler\n",
    "%load_ext line_profiler\n"
   ]
  },
  {
   "cell_type": "code",
   "execution_count": 5,
   "metadata": {},
   "outputs": [],
   "source": [
    "#arr = np.random.randn(100, 100)\n",
    "# big_arr = np.random.randn(20000, 5)\n",
    "#df = pd.DataFrame(arr)\n",
    "#big_df = pd.DataFrame(big_arr)"
   ]
  },
  {
   "cell_type": "code",
   "execution_count": 6,
   "metadata": {},
   "outputs": [
    {
     "output_type": "stream",
     "name": "stderr",
     "text": [
      "UsageError: option --help not recognized ( allowed: \"rf:T:c\" )\n"
     ]
    }
   ],
   "source": [
    "# Memory profiling\n",
    "import profiled\n",
    "\n",
    "# %mprun -f profiled.profiled_function profiled.profiled_function()\n",
    "# %mprun -f predictit.main.predict predictit.main.predict()\n",
    "\n",
    "\n",
    "# Time profiling\n",
    "\n",
    "# %lprun -f predictit.main.predict predictit.main.predict()"
   ]
  },
  {
   "cell_type": "code",
   "execution_count": 1,
   "metadata": {
    "tags": []
   },
   "outputs": [
    {
     "output_type": "stream",
     "name": "stdout",
     "text": [
      "447 µs ± 6.72 µs per loop (mean ± std. dev. of 7 runs, 1000 loops each)\n"
     ]
    }
   ],
   "source": [
    "\n",
    "%%timeit\n"
   ]
  }
 ],
 "metadata": {
  "kernelspec": {
   "name": "python3",
   "display_name": "Python 3.9.2 64-bit"
  },
  "language_info": {
   "codemirror_mode": {
    "name": "ipython",
    "version": 3
   },
   "file_extension": ".py",
   "mimetype": "text/x-python",
   "name": "python",
   "nbconvert_exporter": "python",
   "pygments_lexer": "ipython3",
   "version": "3.9.2"
  },
  "metadata": {
   "interpreter": {
    "hash": "c1d09f119af83acc786b8c46b86461bcdd860f238987d55363cb76535f94177b"
   }
  },
  "toc": {
   "base_numbering": 1,
   "nav_menu": {},
   "number_sections": true,
   "sideBar": true,
   "skip_h1_title": false,
   "title_cell": "Table of Contents",
   "title_sidebar": "Contents",
   "toc_cell": false,
   "toc_position": {},
   "toc_section_display": true,
   "toc_window_display": false
  },
  "interpreter": {
   "hash": "c1d09f119af83acc786b8c46b86461bcdd860f238987d55363cb76535f94177b"
  }
 },
 "nbformat": 4,
 "nbformat_minor": 2
}