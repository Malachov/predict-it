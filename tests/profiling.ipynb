{
 "cells": [
  {
   "cell_type": "code",
   "execution_count": null,
   "metadata": {},
   "outputs": [],
   "source": [
    "import sys\n",
    "from pathlib import Path\n",
    "import numpy as np\n",
    "import inspect\n",
    "import os\n",
    "import pandas as pd\n",
    "\n",
    "import profiled\n",
    "\n",
    "%load_ext memory_profiler\n",
    "%load_ext line_profiler\n",
    "\n"
   ]
  },
  {
   "cell_type": "code",
   "execution_count": null,
   "metadata": {},
   "outputs": [],
   "source": [
    "oo = np.random.randn(10000, 10000)\n",
    "arr = np.array(oo)\n",
    "df = pd.DataFrame(oo)"
   ]
  },
  {
   "cell_type": "markdown",
   "metadata": {},
   "source": [
    "# Profile custom code\n",
    "\n",
    "## Edit file profiled.py - edit fuction profiled_function content and run next cell - with input if necessary"
   ]
  },
  {
   "cell_type": "code",
   "execution_count": null,
   "metadata": {},
   "outputs": [],
   "source": [
    "# Define input if necessary here \n",
    "# aa = np.random.randn(200000)\n",
    "\n",
    "%mprun -f profiled.profiled_function profiled.profiled_function()"
   ]
  },
  {
   "cell_type": "code",
   "execution_count": null,
   "metadata": {},
   "outputs": [],
   "source": [
    "%mprun -f profiled.profiled_function2 profiled.profiled_function2()"
   ]
  },
  {
   "cell_type": "code",
   "execution_count": null,
   "metadata": {},
   "outputs": [],
   "source": [
    "%lprun -f profiled.profiled_function2 profiled.profiled_function2()"
   ]
  },
  {
   "cell_type": "markdown",
   "metadata": {},
   "source": [
    "# Profile predictit libarary"
   ]
  },
  {
   "cell_type": "code",
   "execution_count": null,
   "metadata": {},
   "outputs": [],
   "source": [
    "sys.path.insert(0, '/home/dan/ownCloud/Github/predictit_library')\n"
   ]
  },
  {
   "cell_type": "code",
   "execution_count": null,
   "metadata": {},
   "outputs": [],
   "source": [
    "# Memory profiling\n",
    "\n",
    "# %mprun -f predict predict()\n",
    "\n",
    "# Time profiling\n",
    "\n",
    "# %lprun -f predict predict()"
   ]
  },
  {
   "cell_type": "code",
   "execution_count": null,
   "metadata": {},
   "outputs": [],
   "source": [
    "import predictit\n",
    "from predictit.main import predict\n",
    "from predictit.config import config\n",
    "\n",
    "Config.update({\n",
    "    'print': 0,\n",
    "    'debug': -1\n",
    "})"
   ]
  },
  {
   "cell_type": "code",
   "execution_count": null,
   "metadata": {},
   "outputs": [],
   "source": [
    "# Profile model example\n",
    "\n",
    "# from predictit.models.statsmodels_autoregressive import train\n",
    "# import numpy as np\n",
    "\n",
    "# data = np.random.randn(1, 1000)\n",
    "# sequentions = predictit.define_inputs.make_sequences(data, n_steps_in=10)\n",
    "\n",
    "# %lprun -f train train(sequentions)\n",
    "# %mprun -f train train(sequentions)"
   ]
  },
  {
   "cell_type": "code",
   "execution_count": null,
   "metadata": {},
   "outputs": [],
   "source": [
    "# Plot profiling\n",
    "\n",
    "# complete_dataframe = pd.DataFrame(np.random.randn(20000, 15))\n",
    "\n",
    "# %lprun -f plotit plotit(complete_dataframe, plot_type='plotly', show=1, save=0, save_path='', plot_return='', best_model_name='', predicted_column_name=0)\n",
    "# %mprun -f plotit plotit(complete_dataframe, plot_type='plotly', show=1, save=0, save_path='', plot_return='', best_model_name='', predicted_column_name=0)\n",
    "\n",
    "\n"
   ]
  },
  {
   "cell_type": "code",
   "execution_count": null,
   "metadata": {},
   "outputs": [],
   "source": []
  }
 ],
 "metadata": {
  "kernelspec": {
   "display_name": "Python 3.6.9 64-bit",
   "language": "python",
   "name": "python36964bite1aa509fe56641e9b5999a93834ee35f"
  },
  "language_info": {
   "codemirror_mode": {
    "name": "ipython",
    "version": 3
   },
   "file_extension": ".py",
   "mimetype": "text/x-python",
   "name": "python",
   "nbconvert_exporter": "python",
   "pygments_lexer": "ipython3",
   "version": "3.6.9"
  },
  "toc": {
   "base_numbering": 1,
   "nav_menu": {},
   "number_sections": true,
   "sideBar": true,
   "skip_h1_title": false,
   "title_cell": "Table of Contents",
   "title_sidebar": "Contents",
   "toc_cell": false,
   "toc_position": {},
   "toc_section_display": true,
   "toc_window_display": false
  }
 },
 "nbformat": 4,
 "nbformat_minor": 2
}
