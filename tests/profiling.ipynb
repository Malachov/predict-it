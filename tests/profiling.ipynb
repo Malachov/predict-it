{
 "cells": [
  {
   "cell_type": "code",
   "execution_count": 4,
   "source": [
    "# import sys\r\n",
    "# from pathlib import Path\r\n",
    "# import numpy as np\r\n",
    "# import inspect\r\n",
    "# import os\r\n",
    "# import pandas as pd\r\n",
    "\r\n",
    "# sys.path.insert(0, Path.cwd().resolve())\r\n",
    "# sys.path.insert(0, Path(\"predictit\").resolve())\r\n",
    "\r\n",
    "# #import predictit\r\n",
    "# #from predictit import config\r\n",
    "\r\n",
    "# #config.update({\r\n",
    "# #    'print': 0,\r\n",
    "# #    'debug': -1\r\n",
    "# #})\r\n",
    "\r\n",
    "# %load_ext memory_profiler\r\n",
    "# %load_ext line_profiler\r\n"
   ],
   "outputs": [
    {
     "output_type": "stream",
     "name": "stdout",
     "text": [
      "The memory_profiler extension is already loaded. To reload it, use:\n",
      "  %reload_ext memory_profiler\n",
      "The line_profiler extension is already loaded. To reload it, use:\n",
      "  %reload_ext line_profiler\n"
     ]
    }
   ],
   "metadata": {}
  },
  {
   "cell_type": "code",
   "execution_count": 5,
   "source": [
    "#arr = np.random.randn(100, 100)\r\n",
    "# big_arr = np.random.randn(20000, 5)\r\n",
    "#df = pd.DataFrame(arr)\r\n",
    "#big_df = pd.DataFrame(big_arr)"
   ],
   "outputs": [],
   "metadata": {}
  },
  {
   "cell_type": "code",
   "execution_count": 6,
   "source": [
    "# Memory profiling\r\n",
    "# import profiled\r\n",
    "\r\n",
    "# %mprun -f profiled.profiled_function profiled.profiled_function()\r\n",
    "# %mprun -f predictit.main.predict predictit.main.predict()\r\n",
    "\r\n",
    "\r\n",
    "# Time profiling\r\n",
    "\r\n",
    "# %lprun -f predictit.main.predict predictit.main.predict()"
   ],
   "outputs": [
    {
     "output_type": "stream",
     "name": "stderr",
     "text": [
      "UsageError: option --help not recognized ( allowed: \"rf:T:c\" )\n"
     ]
    }
   ],
   "metadata": {}
  },
  {
   "cell_type": "code",
   "execution_count": 1,
   "source": [
    "\r\n",
    "# %%timeit\r\n",
    "# "
   ],
   "outputs": [
    {
     "output_type": "stream",
     "name": "stdout",
     "text": [
      "447 µs ± 6.72 µs per loop (mean ± std. dev. of 7 runs, 1000 loops each)\n"
     ]
    }
   ],
   "metadata": {
    "tags": []
   }
  }
 ],
 "metadata": {
  "kernelspec": {
   "name": "python3",
   "display_name": "Python 3.9.2 64-bit"
  },
  "language_info": {
   "codemirror_mode": {
    "name": "ipython",
    "version": 3
   },
   "file_extension": ".py",
   "mimetype": "text/x-python",
   "name": "python",
   "nbconvert_exporter": "python",
   "pygments_lexer": "ipython3",
   "version": "3.9.2"
  },
  "metadata": {
   "interpreter": {
    "hash": "c1d09f119af83acc786b8c46b86461bcdd860f238987d55363cb76535f94177b"
   }
  },
  "toc": {
   "base_numbering": 1,
   "nav_menu": {},
   "number_sections": true,
   "sideBar": true,
   "skip_h1_title": false,
   "title_cell": "Table of Contents",
   "title_sidebar": "Contents",
   "toc_cell": false,
   "toc_position": {},
   "toc_section_display": true,
   "toc_window_display": false
  },
  "interpreter": {
   "hash": "c1d09f119af83acc786b8c46b86461bcdd860f238987d55363cb76535f94177b"
  }
 },
 "nbformat": 4,
 "nbformat_minor": 2
}